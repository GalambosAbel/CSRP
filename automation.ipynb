{
 "cells": [
  {
   "cell_type": "markdown",
   "metadata": {},
   "source": [
    "# Setup"
   ]
  },
  {
   "cell_type": "code",
   "execution_count": 1,
   "metadata": {},
   "outputs": [],
   "source": [
    "import os"
   ]
  },
  {
   "cell_type": "markdown",
   "metadata": {},
   "source": [
    "My config has been acting up for a few weeks, and the working directory is messed up as a result, this is a workaround."
   ]
  },
  {
   "cell_type": "code",
   "execution_count": 2,
   "metadata": {},
   "outputs": [],
   "source": [
    "extraPath = \"\"\n",
    "if os.getcwd() == \"C:\\\\Users\\\\20221245\\\\AppData\\\\Local\\\\Programs\\\\Microsoft VS Code\":\n",
    "    extraPath = \"C:\\\\Users\\\\20221245\\\\Desktop\\\\CSRP\\\\\"\n"
   ]
  },
  {
   "cell_type": "markdown",
   "metadata": {},
   "source": [
    "The names of the source and target files, these can later be automatically iterated through."
   ]
  },
  {
   "cell_type": "code",
   "execution_count": 3,
   "metadata": {},
   "outputs": [],
   "source": [
    "source_name = \"layer_0.in\"\n",
    "tsp_name = \"work_layer_0.tsp\"\n",
    "tour_name = \"work_layer_0.tour\"\n",
    "target_name = \"work_layer_0.png\"\n",
    "matrix_size = 1305"
   ]
  },
  {
   "cell_type": "markdown",
   "metadata": {},
   "source": [
    "# Testing if things work"
   ]
  },
  {
   "cell_type": "code",
   "execution_count": 4,
   "metadata": {},
   "outputs": [
    {
     "data": {
      "text/plain": [
       "0"
      ]
     },
     "execution_count": 4,
     "metadata": {},
     "output_type": "execute_result"
    }
   ],
   "source": [
    "#run test, return value should be 0\n",
    "os.chdir(extraPath + \"cpp stuff\")\n",
    "os.system(\".\\\\main.exe\")"
   ]
  },
  {
   "cell_type": "markdown",
   "metadata": {},
   "source": [
    "# The good stuff"
   ]
  },
  {
   "cell_type": "markdown",
   "metadata": {},
   "source": [
    "Turn the raw data into a tsp, this should hopefully soon be depracated."
   ]
  },
  {
   "cell_type": "code",
   "execution_count": 5,
   "metadata": {},
   "outputs": [],
   "source": [
    "os.chdir(extraPath)\n",
    "max_dist = os.system(f\".\\\\\\\"cpp stuff\\\"\\\\main.exe itt {source_name} {tsp_name} {matrix_size} return\")"
   ]
  },
  {
   "cell_type": "markdown",
   "metadata": {},
   "source": [
    "This is manual labour for now, upload the tsp to Neos, and get the tour.\n",
    "\n",
    "The reason this is all an ipynb is that neos has a pretty easy to use python interface, see: \n",
    "- https://neos-guide.org/users-guide/neos-interfaces/#xml\n",
    "- https://github.com/NEOS-Server/PythonClient/blob/master/NeosClient.py\n",
    "\n",
    "The `example.xml` should contain an xml of valid format, that needs to be generated here, but I haven't tested it yet. "
   ]
  },
  {
   "cell_type": "markdown",
   "metadata": {},
   "source": [
    "Finally turn the tour into a neat little image."
   ]
  },
  {
   "cell_type": "code",
   "execution_count": 6,
   "metadata": {},
   "outputs": [
    {
     "data": {
      "text/plain": [
       "0"
      ]
     },
     "execution_count": 6,
     "metadata": {},
     "output_type": "execute_result"
    }
   ],
   "source": [
    "os.chdir(extraPath)\n",
    "os.system(f\".\\\\\\\"cpp stuff\\\"\\\\main.exe tti {tsp_name} {tour_name} {target_name} 120000\")"
   ]
  }
 ],
 "metadata": {
  "kernelspec": {
   "display_name": "Python 3",
   "language": "python",
   "name": "python3"
  },
  "language_info": {
   "codemirror_mode": {
    "name": "ipython",
    "version": 3
   },
   "file_extension": ".py",
   "mimetype": "text/x-python",
   "name": "python",
   "nbconvert_exporter": "python",
   "pygments_lexer": "ipython3",
   "version": "3.8.10"
  }
 },
 "nbformat": 4,
 "nbformat_minor": 2
}
