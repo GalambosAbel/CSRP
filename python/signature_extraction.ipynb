{
 "cells": [
  {
   "cell_type": "code",
   "execution_count": null,
   "metadata": {},
   "outputs": [],
   "source": [
    "import pickle\n",
    "\n",
    "# Load the data\n",
    "# make sure to get the .pkl from the .zip file\n",
    "with open(\"sampled_SemCore+OMSTI.pkl\", \"rb\") as f:\n",
    "    data = pickle.load(f)\n",
    "data_list = list(data.items())\n",
    "\n",
    "print(\"Number of words in the dataset: \", len(data_list))"
   ]
  },
  {
   "cell_type": "code",
   "execution_count": null,
   "metadata": {},
   "outputs": [],
   "source": [
    "from transformers import BertTokenizer, BertModel\n",
    "import torch\n",
    "\n",
    "# Load the BERT-base-uncased model and tokenizer\n",
    "tokenizer = BertTokenizer.from_pretrained('bert-base-uncased')\n",
    "model = BertModel.from_pretrained('bert-base-uncased', output_hidden_states=True)"
   ]
  },
  {
   "cell_type": "code",
   "execution_count": null,
   "metadata": {},
   "outputs": [],
   "source": [
    "# YOU ONLY NEED TO CHANGE THE WORD INDEX HERE \n",
    "target_word_index = 2\n",
    "\n",
    "# Structure of data_list\n",
    "# data_list[word index][0-word, 1-all the info][meaning key][sentence No]['sentence'/'lematized'/'word'/'pos'/'id'/'sent_pos']\n",
    "# 'sentence' = the whole sentence\n",
    "# 'lematized' = lemmatization of words in sentence\n",
    "# 'word' = target word\n",
    "# 'pos' = NOUN/VERB/ADJ...\n",
    "# 'id' = some id\n",
    "# 'sent_pos' = position of target word in lemmatized sentence\n",
    "keys = list(data_list[target_word_index][1].keys())\n",
    "\n",
    "target_word = data_list[target_word_index][0]\n",
    "print(target_word)"
   ]
  },
  {
   "cell_type": "code",
   "execution_count": null,
   "metadata": {},
   "outputs": [],
   "source": [
    "word_meaning_header = []\n",
    "i = 1\n",
    "for k in keys:\n",
    "    word_meaning_header = word_meaning_header + [i]*len(data_list[target_word_index][1][k])\n",
    "\n",
    "    i += 1\n",
    "\n",
    "data_list[target_word_index][1]"
   ]
  },
  {
   "cell_type": "code",
   "execution_count": null,
   "metadata": {},
   "outputs": [],
   "source": [
    "part_of_speech = {'NOUN': 1, 'ADJ': 2, 'VERB': 3}\n",
    "\n",
    "word_part_of_speech = []\n",
    "for k in keys:\n",
    "    for sen in data_list[target_word_index][1][k]:\n",
    "        word_part_of_speech = word_part_of_speech + [part_of_speech[sen['pos']]]"
   ]
  },
  {
   "cell_type": "code",
   "execution_count": null,
   "metadata": {},
   "outputs": [],
   "source": [
    "only_sentence = []  # contains only the sentences\n",
    "only_lem = []  # contains only the lemmatized sentences\n",
    "for k in keys:\n",
    "    for i in data_list[target_word_index][1][k]:\n",
    "        only_sentence.append(i['sentence'])\n",
    "        only_lem.append(i['lemmatized'])\n",
    "\n",
    "only_sentence"
   ]
  },
  {
   "cell_type": "code",
   "execution_count": null,
   "metadata": {},
   "outputs": [],
   "source": [
    "# tokenize the list of sentences and get the hidden states\n",
    "hidden_states = []\n",
    "\n",
    "inputs = tokenizer(text=only_sentence, return_tensors=\"pt\", padding=True, truncation=True)\n",
    "with torch.no_grad():\n",
    "    outputs = model(**inputs)\n",
    "\n",
    "hidden_states = outputs.hidden_states"
   ]
  },
  {
   "cell_type": "code",
   "execution_count": null,
   "metadata": {},
   "outputs": [],
   "source": [
    "from word_forms.word_forms import get_word_forms\n",
    "\n",
    "target_word_hidden_states = []\n",
    "\n",
    "# get all the forms that the target word can take in the sentence\n",
    "# similarity threshold is set to 0.8 to get only the most similar forms\n",
    "# we couldn't find a better way to get the forms of the target word\n",
    "# so we are using this library to get the forms, but they might have to\n",
    "# be manually filtered later\n",
    "_forms = get_word_forms(target_word, 0.8)\n",
    "forms = set()\n",
    "for key in _forms:\n",
    "    forms = forms.union(_forms[key])\n",
    "\n",
    "print(forms)\n",
    "\n",
    "for layer in range(13):\n",
    "    layer_hidden_states = []\n",
    "    for i, sentence_data in enumerate(only_sentence):\n",
    "        for form in forms:\n",
    "            try:\n",
    "                # get the position of the target word's token in the tokenized sentence\n",
    "                # this is needed to accurately get the hidden states of the target word\n",
    "                # as the tokenized sentence usually contains extra tokens like [CLS], [SEP], etc.\n",
    "                target_word_position = list(tokenizer(text=sentence_data, return_tensors=\"pt\")['input_ids'][0]).index(int(tokenizer(form, return_tensors=\"pt\")['input_ids'][0][1]))\n",
    "                break\n",
    "            except:\n",
    "                pass\n",
    "        sentence_hidden_states = hidden_states[layer][i][target_word_position]\n",
    "        layer_hidden_states.append(sentence_hidden_states)\n",
    "\n",
    "    target_word_hidden_states.append(layer_hidden_states)"
   ]
  },
  {
   "cell_type": "code",
   "execution_count": null,
   "metadata": {},
   "outputs": [],
   "source": [
    "def cosine_dist(v1, v2):\n",
    "    dot_product = torch.dot(v1, v2)\n",
    "    norm_v1 = torch.norm(v1)\n",
    "    norm_v2 = torch.norm(v2)\n",
    "    return 1 - dot_product / (norm_v1 * norm_v2)\n",
    "\n",
    "signatures = []\n",
    "for layer in range(13):\n",
    "    signatures.append([])\n",
    "    for i in target_word_hidden_states[layer]:\n",
    "        signature = torch.tensor([])\n",
    "        for j in target_word_hidden_states[layer]:\n",
    "            signature = torch.cat((signature, cosine_dist(i, j).unsqueeze(0)))\n",
    "        signatures[layer].append(signature)"
   ]
  },
  {
   "cell_type": "code",
   "execution_count": null,
   "metadata": {},
   "outputs": [],
   "source": [
    "import os\n",
    "\n",
    "for layer in range(13):\n",
    "    filename = f\"signature_dists\\{target_word}\\layer_{layer}.in\"\n",
    "    os.makedirs(os.path.dirname(filename), exist_ok=True)\n",
    "    with open(filename, \"w\") as f:\n",
    "        print(\"Started layer \" + str(layer) + \"\\n\")\n",
    "        # matrix dimension\n",
    "        f.write(str(len(word_meaning_header)))\n",
    "        f.write(\"\\n\")\n",
    "\n",
    "        # word meanings\n",
    "        for m in word_meaning_header:\n",
    "            f.write(\"{} \".format(m))\n",
    "        f.write(\"\\n\")\n",
    "\n",
    "        # word as part of speech\n",
    "        for p in word_part_of_speech:\n",
    "            f.write(\"{} \".format(p))\n",
    "        f.write(\"\\n\")\n",
    "\n",
    "        for sig1 in signatures[layer]:\n",
    "            for sig2 in signatures[layer]:\n",
    "                f.write(\"{:.5f} \".format((1 / len(sig1)**0.5) * torch.norm(sig1 - sig2)))\n",
    "            f.write(\"\\n\")\n",
    "    print(\"Finished with layer \" + str(layer) + \"\\n\")"
   ]
  }
 ],
 "metadata": {
  "kernelspec": {
   "display_name": "base",
   "language": "python",
   "name": "python3"
  },
  "language_info": {
   "codemirror_mode": {
    "name": "ipython",
    "version": 3
   },
   "file_extension": ".py",
   "mimetype": "text/x-python",
   "name": "python",
   "nbconvert_exporter": "python",
   "pygments_lexer": "ipython3",
   "version": "3.11.5"
  }
 },
 "nbformat": 4,
 "nbformat_minor": 2
}
