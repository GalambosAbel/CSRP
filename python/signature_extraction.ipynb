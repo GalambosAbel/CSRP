{
 "cells": [
  {
   "cell_type": "code",
   "execution_count": 119,
   "metadata": {},
   "outputs": [],
   "source": [
    "import pickle\n",
    "from tqdm import tqdm\n",
    "from word_forms.word_forms import get_word_forms\n",
    "from transformers import BertTokenizer, BertModel\n",
    "import torch\n",
    "import os\n",
    "import numpy as np\n",
    "from scipy.spatial import distance"
   ]
  },
  {
   "cell_type": "code",
   "execution_count": null,
   "metadata": {},
   "outputs": [],
   "source": [
    "# Load the data\n",
    "# make sure to get the .pkl from the .zip file\n",
    "with open(\"sampled_SemCore+OMSTI.pkl\", \"rb\") as f:\n",
    "    data = pickle.load(f)\n",
    "data_list = list(data.items())\n",
    "\n",
    "print(\"Number of words in the dataset: \", len(data_list))"
   ]
  },
  {
   "cell_type": "code",
   "execution_count": 121,
   "metadata": {},
   "outputs": [],
   "source": [
    "# Load the BERT-base-uncased model and tokenizer\n",
    "tokenizer = BertTokenizer.from_pretrained('bert-base-uncased')\n",
    "model = BertModel.from_pretrained('bert-base-uncased', output_hidden_states=True)"
   ]
  },
  {
   "cell_type": "code",
   "execution_count": null,
   "metadata": {},
   "outputs": [],
   "source": [
    "# YOU ONLY NEED TO CHANGE THE WORD INDEX HERE \n",
    "target_word_index = 0\n",
    "\n",
    "# Structure of data_list\n",
    "# data_list[word index][0-word, 1-all the info][meaning key][sentence No]['sentence'/'lematized'/'word'/'pos'/'id'/'sent_pos']\n",
    "# 'sentence' = the whole sentence\n",
    "# 'lematized' = lemmatization of words in sentence\n",
    "# 'word' = target word\n",
    "# 'pos' = NOUN/VERB/ADJ...\n",
    "# 'id' = some id\n",
    "# 'sent_pos' = position of target word in lemmatized sentence\n",
    "keys = list(data_list[target_word_index][1].keys())\n",
    "\n",
    "target_word = data_list[target_word_index][0]\n",
    "print(target_word)"
   ]
  },
  {
   "cell_type": "code",
   "execution_count": null,
   "metadata": {},
   "outputs": [],
   "source": [
    "word_meaning_header = []\n",
    "i = 1\n",
    "for k in keys:\n",
    "    word_meaning_header = word_meaning_header + [i]*len(data_list[target_word_index][1][k])\n",
    "    i += 1\n",
    "\n",
    "data_list[target_word_index][1]"
   ]
  },
  {
   "cell_type": "code",
   "execution_count": 210,
   "metadata": {},
   "outputs": [],
   "source": [
    "part_of_speech = {'NOUN': 1, 'ADJ': 2, 'VERB': 3}\n",
    "\n",
    "word_part_of_speech = []\n",
    "for k in keys:\n",
    "    for sen in data_list[target_word_index][1][k]:\n",
    "        word_part_of_speech = word_part_of_speech + [part_of_speech[sen['pos']]]"
   ]
  },
  {
   "cell_type": "code",
   "execution_count": null,
   "metadata": {},
   "outputs": [],
   "source": [
    "only_sentence = []  # contains only the sentences\n",
    "only_lem = []  # contains only the lemmatized sentences\n",
    "for k in keys:\n",
    "    for i in data_list[target_word_index][1][k]:\n",
    "        only_sentence.append(i['sentence'])\n",
    "        only_lem.append(i['lemmatized'])\n",
    "\n",
    "only_sentence"
   ]
  },
  {
   "cell_type": "code",
   "execution_count": 212,
   "metadata": {},
   "outputs": [],
   "source": [
    "# tokenize the list of sentences and get the hidden states\n",
    "hidden_states = []\n",
    "\n",
    "inputs = tokenizer(text=only_sentence, return_tensors=\"pt\", padding=True, truncation=True)\n",
    "with torch.no_grad():\n",
    "    outputs = model(**inputs)\n",
    "\n",
    "hidden_states = outputs.hidden_states"
   ]
  },
  {
   "cell_type": "code",
   "execution_count": null,
   "metadata": {},
   "outputs": [],
   "source": [
    "# get all the forms that the target word can take in the sentence\n",
    "# similarity threshold is set to 0.99 to get only the most similar forms\n",
    "# we couldn't find a better way to get the forms of the target word\n",
    "# so we are using this library to get the forms\n",
    "_forms = get_word_forms(target_word, 0.99)\n",
    "forms = set()\n",
    "for key in _forms:\n",
    "    forms = forms.union(_forms[key])\n",
    "\n",
    "print(forms)"
   ]
  },
  {
   "cell_type": "code",
   "execution_count": null,
   "metadata": {},
   "outputs": [],
   "source": [
    "from tqdm import tqdm\n",
    "\n",
    "target_word_hidden_states = []\n",
    "for layer in tqdm(range(13), desc=\"Layers\"):\n",
    "    layer_hidden_states = []\n",
    "    for i, sentence_data in tqdm(enumerate(only_sentence), desc=\"Embeddings layer \" + str(layer)):\n",
    "        for form in forms:\n",
    "            try:\n",
    "                # get the position of the target word's token in the tokenized sentence\n",
    "                # this is needed to accurately get the hidden states of the target word\n",
    "                # as the tokenized sentence usually contains extra tokens like [CLS], [SEP], etc.\n",
    "                target_word_position = list(tokenizer(text=sentence_data, return_tensors=\"pt\")['input_ids'][0]).index(int(tokenizer(form, return_tensors=\"pt\")['input_ids'][0][1]))\n",
    "                break\n",
    "            except:\n",
    "                pass\n",
    "        sentence_hidden_states = hidden_states[layer][i][target_word_position]\n",
    "        layer_hidden_states.append(sentence_hidden_states)\n",
    "\n",
    "    target_word_hidden_states.append(layer_hidden_states)"
   ]
  },
  {
   "cell_type": "code",
   "execution_count": null,
   "metadata": {},
   "outputs": [],
   "source": [
    "# Calculate signatures of embeddings for each layer\n",
    "\n",
    "signatures = []\n",
    "for layer in range(13):\n",
    "    A = np.asarray([list(x.numpy()) for x in target_word_hidden_states[layer]])\n",
    "    dot_prods = A @ A.T\n",
    "    norms = np.sqrt(dot_prods.diagonal())\n",
    "    cos_dist = np.ones(dot_prods.shape) - (dot_prods / np.outer(norms, norms))\n",
    "    signatures.append(cos_dist.T)\n",
    "\n",
    "signatures[0].shape"
   ]
  },
  {
   "cell_type": "code",
   "execution_count": null,
   "metadata": {},
   "outputs": [],
   "source": [
    "for layer in tqdm(range(13)):\n",
    "    filename = f\"..\\input\\{target_word}\\layer_{layer}.in\"\n",
    "    os.makedirs(os.path.dirname(filename), exist_ok=True)\n",
    "    with open(filename, \"w\") as f:\n",
    "        # matrix dimension\n",
    "        f.write(str(len(word_meaning_header)))\n",
    "        f.write(\"\\n\")\n",
    "\n",
    "        # word meanings\n",
    "        f.write(\" \".join(map(str, word_meaning_header)) + \"\\n\")\n",
    "\n",
    "        # word as part of speech\n",
    "        f.write(\" \".join(map(str, word_part_of_speech)) + \"\\n\")\n",
    "\n",
    "        n = len(signatures[layer])\n",
    "        \n",
    "        # create the signature distance matrix\n",
    "        signature_matrix = distance.cdist(XA=signatures[layer], XB=signatures[layer], metric='euclidean')\n",
    "        signature_matrix = signature_matrix * (1 / n ** 0.5)\n",
    "        \n",
    "        np.savetxt(f, signature_matrix, fmt=\"%.5f\")"
   ]
  }
 ],
 "metadata": {
  "kernelspec": {
   "display_name": "Python 3",
   "language": "python",
   "name": "python3"
  },
  "language_info": {
   "codemirror_mode": {
    "name": "ipython",
    "version": 3
   },
   "file_extension": ".py",
   "mimetype": "text/x-python",
   "name": "python",
   "nbconvert_exporter": "python",
   "pygments_lexer": "ipython3",
   "version": "3.12.8"
  }
 },
 "nbformat": 4,
 "nbformat_minor": 2
}
