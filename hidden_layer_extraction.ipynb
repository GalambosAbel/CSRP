{
 "cells": [
  {
   "cell_type": "code",
   "execution_count": null,
   "metadata": {},
   "outputs": [],
   "source": [
    "import pickle\n",
    "# make sure you have the .pkl file because it doesn't work with the .zip\n",
    "with open(\"sampled_SemCore+OMSTI.pkl\", \"rb\") as f:\n",
    "    data = pickle.load(f)\n",
    "data_list = list(data.items())\n",
    "\n",
    "# YOU ONLY NEED TO CHANGE THE WORD INDEX HERE \n",
    "target_word_index = 0\n",
    "\n",
    "print(data_list[target_word_index][0])\n",
    "\n",
    "# Structure of data_list\n",
    "# data_list[word index][0-word, 1-all the info][meaning key][sentence No]['sentence'/'lematized'/'word'/'pos'/'id'/'sent_pos']\n",
    "# 'sentence' = the whole sentence\n",
    "# 'lematized' = lemmatization of words in sentence\n",
    "# 'word' = target word\n",
    "# 'pos' = NOUN/VERB/ADJ...\n",
    "# 'id' = some id\n",
    "# 'sent_pos' = position of target word in lemmatized sentence\n",
    "keys = list(data_list[target_word_index][1].keys())\n",
    "\n",
    "print(keys)"
   ]
  },
  {
   "cell_type": "code",
   "execution_count": null,
   "metadata": {},
   "outputs": [],
   "source": [
    "word_meaning_header = []\n",
    "i = 1\n",
    "for k in keys:\n",
    "    word_meaning_header = word_meaning_header + [i]*len(data_list[target_word_index][1][k])\n",
    "\n",
    "    i += 1\n",
    "\n",
    "data_list[target_word_index][1]"
   ]
  },
  {
   "cell_type": "code",
   "execution_count": null,
   "metadata": {},
   "outputs": [],
   "source": [
    "part_of_speech = {'NOUN': 1, 'ADJ': 2, 'VERB': 3}\n",
    "\n",
    "word_part_of_speech = []\n",
    "for k in keys:\n",
    "    for sen in data_list[target_word_index][1][k]:\n",
    "        word_part_of_speech = word_part_of_speech + [part_of_speech[sen['pos']]]"
   ]
  },
  {
   "cell_type": "code",
   "execution_count": null,
   "metadata": {},
   "outputs": [],
   "source": [
    "len(word_part_of_speech)"
   ]
  },
  {
   "cell_type": "code",
   "execution_count": null,
   "metadata": {},
   "outputs": [],
   "source": [
    "data_list[target_word_index][1]['work%2:35:02::'][0]"
   ]
  },
  {
   "cell_type": "code",
   "execution_count": null,
   "metadata": {},
   "outputs": [],
   "source": [
    "sentences_lem = []  # contains sentence, lemmatization, target word, ... in a dictionary\n",
    "only_sentence = []  # contains only the sentences\n",
    "only_lem = []       # contains lists of the lemmatized words in each sentence\n",
    "for k in keys:\n",
    "    for i in data_list[target_word_index][1][k]:\n",
    "        sentences_lem.append(i)\n",
    "        only_sentence.append(i['sentence'])\n",
    "        only_lem.append(i['lemmatized'])\n",
    "\n",
    "only_sentence"
   ]
  },
  {
   "cell_type": "code",
   "execution_count": null,
   "metadata": {},
   "outputs": [],
   "source": [
    "len(sentences_lem)"
   ]
  },
  {
   "cell_type": "code",
   "execution_count": null,
   "metadata": {},
   "outputs": [],
   "source": [
    "only_lem[0]"
   ]
  },
  {
   "cell_type": "code",
   "execution_count": null,
   "metadata": {},
   "outputs": [],
   "source": [
    "# lists of lists of the lemmatized words in the sentences\n",
    "lem_words_in_sentences = []\n",
    "for i in only_lem:\n",
    "    sentence = []\n",
    "    for j in i:\n",
    "        sentence.append(j[0])\n",
    "    lem_words_in_sentences.append(sentence)\n",
    "\n",
    "lem_words_in_sentences"
   ]
  },
  {
   "cell_type": "code",
   "execution_count": null,
   "metadata": {},
   "outputs": [],
   "source": [
    "# the original sentences but the words in them have been lemmatized\n",
    "lemmatized_sentences = []\n",
    "for l in lem_words_in_sentences:\n",
    "    sen = ' '.join(l)\n",
    "    print(sen)\n",
    "    lemmatized_sentences.append(sen)"
   ]
  },
  {
   "cell_type": "code",
   "execution_count": null,
   "metadata": {},
   "outputs": [],
   "source": [
    "from transformers import BertTokenizer, BertModel\n",
    "import torch\n",
    "\n",
    "# Load the BERT-base-uncased model and tokenizer\n",
    "tokenizer = BertTokenizer.from_pretrained('bert-base-uncased')\n",
    "model = BertModel.from_pretrained('bert-base-uncased', output_hidden_states=True)\n"
   ]
  },
  {
   "cell_type": "code",
   "execution_count": null,
   "metadata": {},
   "outputs": [],
   "source": [
    "# tokenize the list of sentences and get the hidden states\n",
    "hidden_states = []\n",
    "\n",
    "inputs = tokenizer(text=only_sentence, return_tensors=\"pt\", padding=True, truncation=True)\n",
    "with torch.no_grad():\n",
    "    outputs = model(**inputs)\n",
    "\n",
    "hidden_states = outputs.hidden_states\n",
    "\n",
    "len(hidden_states)"
   ]
  },
  {
   "cell_type": "code",
   "execution_count": null,
   "metadata": {},
   "outputs": [],
   "source": [
    "print(only_sentence[0])\n",
    "print(sentences_lem[0]['sent_pos'])\n",
    "print(tokenizer(text=only_sentence[0], return_tensors=\"pt\"))\n",
    "\n",
    "print(only_sentence[4])\n",
    "print(sentences_lem[4]['sent_pos'])\n",
    "print(tokenizer(text=only_sentence[4], return_tensors=\"pt\"))\n",
    "\n",
    "print(only_sentence[5])\n",
    "print(only_lem[5][sentences_lem[5]['sent_pos']])\n",
    "print(tokenizer(text=only_sentence[5], return_tensors=\"pt\"))"
   ]
  },
  {
   "cell_type": "code",
   "execution_count": null,
   "metadata": {},
   "outputs": [],
   "source": [
    "target_word_hidden_states = []\n",
    "\n",
    "for layer in range(13):\n",
    "    tmp = []\n",
    "    for i, sentence_data in enumerate(only_sentence):\n",
    "        for form in [\"work\", \"works\", \"working\", \"worked\"]:\n",
    "            try:\n",
    "                target_word_position = list(tokenizer(text=sentence_data, return_tensors=\"pt\")['input_ids'][0]).index(int(tokenizer(form, return_tensors=\"pt\")['input_ids'][0][1]))\n",
    "                break\n",
    "            except:\n",
    "                pass\n",
    "        sentence_hidden_states = hidden_states[layer][i][target_word_position]\n",
    "        tmp.append(sentence_hidden_states)\n",
    "\n",
    "    target_word_hidden_states.append(tmp)"
   ]
  },
  {
   "cell_type": "code",
   "execution_count": null,
   "metadata": {},
   "outputs": [],
   "source": [
    "target_word_hidden_states[0][0]"
   ]
  },
  {
   "cell_type": "code",
   "execution_count": null,
   "metadata": {},
   "outputs": [],
   "source": [
    "def cosine_dist(v1, v2):\n",
    "    dot_product = torch.dot(v1, v2)\n",
    "    norm_v1 = torch.norm(v1)\n",
    "    norm_v2 = torch.norm(v2)\n",
    "    return 1 - dot_product / (norm_v1 * norm_v2)\n",
    "\n",
    "signatures = []\n",
    "for layer in range(13):\n",
    "    signatures.append([])\n",
    "    for i in target_word_hidden_states[layer]:\n",
    "        signature = torch.tensor([])\n",
    "        for j in target_word_hidden_states[layer]:\n",
    "            signature = torch.cat((signature, cosine_dist(i, j).unsqueeze(0)))\n",
    "        signatures[layer].append(signature)"
   ]
  },
  {
   "cell_type": "code",
   "execution_count": null,
   "metadata": {},
   "outputs": [],
   "source": [
    "signatures[0][0]"
   ]
  },
  {
   "cell_type": "code",
   "execution_count": null,
   "metadata": {},
   "outputs": [],
   "source": [
    "print(\"{} \".format(1))"
   ]
  },
  {
   "cell_type": "code",
   "execution_count": null,
   "metadata": {},
   "outputs": [],
   "source": [
    "for layer in range(13):\n",
    "    with open(f\"work_embeddings\\\\layer_r_{layer}.in\", \"w\") as f:\n",
    "        print(\"Started layer \" + str(layer) + \"\\n\")\n",
    "        # matrix dimension\n",
    "        f.write(str(len(word_meaning_header)))\n",
    "        f.write(\"\\n\")\n",
    "\n",
    "        # word meanings\n",
    "        for m in word_meaning_header:\n",
    "            f.write(\"{} \".format(m))\n",
    "        f.write(\"\\n\")\n",
    "\n",
    "        # word as part of speech\n",
    "        for p in word_part_of_speech:\n",
    "            f.write(\"{} \".format(p))\n",
    "        f.write(\"\\n\")\n",
    "\n",
    "        for sig1 in signatures[layer]:\n",
    "            for sig2 in signatures[layer]:\n",
    "                f.write(\"{:.5f} \".format((1 / len(sig1)**0.5) * torch.norm(sig1 - sig2)))\n",
    "            f.write(\"\\n\")\n",
    "    print(\"Finished with layer \" + str(layer) + \"\\n\")"
   ]
  }
 ],
 "metadata": {
  "kernelspec": {
   "display_name": "Python 3",
   "language": "python",
   "name": "python3"
  },
  "language_info": {
   "codemirror_mode": {
    "name": "ipython",
    "version": 3
   },
   "file_extension": ".py",
   "mimetype": "text/x-python",
   "name": "python",
   "nbconvert_exporter": "python",
   "pygments_lexer": "ipython3",
   "version": "3.12.4"
  }
 },
 "nbformat": 4,
 "nbformat_minor": 2
}
