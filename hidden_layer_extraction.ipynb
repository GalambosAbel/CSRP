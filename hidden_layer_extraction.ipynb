{
 "cells": [
  {
   "cell_type": "code",
   "execution_count": null,
   "metadata": {},
   "outputs": [],
   "source": [
    "import pickle\n",
    "# make sure you have the .pkl file because it doesn't work with the .zip\n",
    "with open(\"sampled_SemCore+OMSTI.pkl\", \"rb\") as f:\n",
    "    data = pickle.load(f)\n",
    "data_list = list(data.items())\n",
    "\n",
    "# YOU ONLY NEED TO CHANGE THE WORD INDEX HERE \n",
    "target_word_index = 0\n",
    "\n",
    "print(data_list[target_word_index][0])\n",
    "\n",
    "# Structure of data_list\n",
    "# data_list[word index][0-word, 1-all the info][meaning key][sentence No]['sentence'/'lematized'/'word'/'pos'/'id'/'sent_pos']\n",
    "# 'sentence' = the whole sentence\n",
    "# 'lematized' = lemmatization of words in sentence\n",
    "# 'word' = target word\n",
    "# 'pos' = NOUN/VERB/ADJ...\n",
    "# 'id' = some id\n",
    "# 'sent_pos' = position of target word in sentence\n",
    "keys = list(data_list[target_word_index][1].keys())"
   ]
  },
  {
   "cell_type": "code",
   "execution_count": null,
   "metadata": {},
   "outputs": [],
   "source": [
    "sentences_lem = []  # contains sentence, lemmatization, target word, ... in a dictionary\n",
    "only_sentence = []  # contains only the sentences\n",
    "only_lem = []       # contains lists of the lemmatized words in each sentence\n",
    "for k in keys:\n",
    "    for i in data_list[target_word_index][1][k]:\n",
    "        sentences_lem.append(i)\n",
    "        only_sentence.append(i['sentence'])\n",
    "        only_lem.append(i['lemmatized'])\n",
    "\n",
    "only_lem"
   ]
  },
  {
   "cell_type": "code",
   "execution_count": null,
   "metadata": {},
   "outputs": [],
   "source": [
    "len(sentences_lem)"
   ]
  },
  {
   "cell_type": "code",
   "execution_count": null,
   "metadata": {},
   "outputs": [],
   "source": [
    "only_lem[0]"
   ]
  },
  {
   "cell_type": "code",
   "execution_count": null,
   "metadata": {},
   "outputs": [],
   "source": [
    "# lists of lists of the lemmatized words in the sentences\n",
    "lem_words_in_sentences = []\n",
    "for i in only_lem:\n",
    "    sentence = []\n",
    "    for j in i:\n",
    "        sentence.append(j[0])\n",
    "    lem_words_in_sentences.append(sentence)\n",
    "\n",
    "lem_words_in_sentences"
   ]
  },
  {
   "cell_type": "code",
   "execution_count": null,
   "metadata": {},
   "outputs": [],
   "source": [
    "# the original sentences but the words in them have been lemmatized\n",
    "lemmatized_sentences = []\n",
    "for l in lem_words_in_sentences:\n",
    "    sen = ' '.join(l)\n",
    "    print(sen)\n",
    "    lemmatized_sentences.append(sen)"
   ]
  },
  {
   "cell_type": "code",
   "execution_count": null,
   "metadata": {},
   "outputs": [],
   "source": [
    "from transformers import BertTokenizer, BertModel\n",
    "import torch\n",
    "\n",
    "# Load the BERT-base-uncased model and tokenizer\n",
    "tokenizer = BertTokenizer.from_pretrained('bert-base-uncased')\n",
    "model = BertModel.from_pretrained('bert-base-uncased', output_hidden_states=True)\n"
   ]
  },
  {
   "cell_type": "code",
   "execution_count": 10,
   "metadata": {},
   "outputs": [],
   "source": [
    "# tokenize the list of lemmatized sentences\n",
    "inputs = tokenizer(text=lemmatized_sentences, return_tensors=\"pt\", padding=True, truncation=True)"
   ]
  },
  {
   "cell_type": "code",
   "execution_count": 11,
   "metadata": {},
   "outputs": [],
   "source": [
    "# feed the model\n",
    "with torch.no_grad():\n",
    "    outputs = model(**inputs)"
   ]
  },
  {
   "cell_type": "code",
   "execution_count": 12,
   "metadata": {},
   "outputs": [],
   "source": [
    "# get the hidden layers\n",
    "all_hidden_states = outputs.hidden_states\n",
    "word_embeddings = all_hidden_states[0]"
   ]
  },
  {
   "cell_type": "code",
   "execution_count": null,
   "metadata": {},
   "outputs": [],
   "source": [
    "word_embeddings"
   ]
  },
  {
   "cell_type": "code",
   "execution_count": null,
   "metadata": {},
   "outputs": [],
   "source": [
    "all_hidden_states[4].shape"
   ]
  }
 ],
 "metadata": {
  "kernelspec": {
   "display_name": "Python 3",
   "language": "python",
   "name": "python3"
  },
  "language_info": {
   "codemirror_mode": {
    "name": "ipython",
    "version": 3
   },
   "file_extension": ".py",
   "mimetype": "text/x-python",
   "name": "python",
   "nbconvert_exporter": "python",
   "pygments_lexer": "ipython3",
   "version": "3.12.4"
  }
 },
 "nbformat": 4,
 "nbformat_minor": 2
}
